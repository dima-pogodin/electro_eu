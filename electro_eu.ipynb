{
 "cells": [
  {
   "cell_type": "markdown",
   "id": "260557c2-7b3f-49c3-95a4-805d82359903",
   "metadata": {},
   "source": [
    "# Модель для прогнозирования цен на электроэнергию в Европе"
   ]
  },
  {
   "cell_type": "markdown",
   "id": "12487984-66cb-4fda-9a16-dcfb82836500",
   "metadata": {},
   "source": [
    "<p>Модель была реализована в 2020 г., предназначена для прогнозирования глобальной температуры воздуха на Земле.</p>\n",
    "<p>В качестве входящих факторов использованы 3 показателя.</p>\n",
    "<p>Модель была интегрирована в BI-систему, в которой входящие данные автоматически загружались из источников, предсказания модели пересчитывались и визуализировались.</p>\n",
    "<p>Данный документ демонстрирует принципы построения ML-модели, не раскрывая методику, ссылки на использовавшиеся научные работы, данные и произведенные с ними преобразования.</p>"
   ]
  },
  {
   "cell_type": "markdown",
   "id": "3a38b3aa-5840-4a8e-af94-f838e22d8651",
   "metadata": {},
   "source": [
    "### Импорт библиотек"
   ]
  },
  {
   "cell_type": "code",
   "execution_count": 25,
   "id": "3c1519c5-ab80-46e3-8f2f-b6c73837bd80",
   "metadata": {},
   "outputs": [],
   "source": [
    "import pandas as pd\n",
    "import numpy as np\n",
    "\n",
    "from datetime import datetime\n",
    "\n",
    "import matplotlib.pyplot as plt\n",
    "import seaborn as sns\n",
    "\n",
    "from sklearn.model_selection import TimeSeriesSplit\n",
    "from sklearn.model_selection import cross_val_score\n",
    "from sklearn.preprocessing import StandardScaler\n",
    "\n",
    "from sklearn.metrics import mean_squared_error\n",
    "\n",
    "from sklearn.linear_model import LinearRegression\n",
    "\n",
    "from sklearn.impute import SimpleImputer\n",
    "from sklearn.preprocessing import OneHotEncoder, MinMaxScaler\n",
    "from sklearn.compose import ColumnTransformer\n",
    "from sklearn.pipeline import Pipeline\n",
    "\n",
    "import phik\n",
    "from phik.report import plot_correlation_matrix"
   ]
  },
  {
   "cell_type": "markdown",
   "id": "739696d3-7db1-4f20-afb6-890f700f6f6d",
   "metadata": {},
   "source": [
    "### Загрузка данных"
   ]
  },
  {
   "cell_type": "code",
   "execution_count": 26,
   "id": "67f506e1-4be2-43a2-a171-ff2296df73d9",
   "metadata": {},
   "outputs": [],
   "source": [
    "# Загружаем данные из файлов\n",
    "price = pd.read_csv('datasets/eu_wholesale_electr_price_average.csv', sep=';', decimal=',', names=['date', 'price'], index_col=[0], parse_dates=[0], date_format='%d.%m.%Y')\n",
    "df_1 = pd.read_csv('datasets/feature_1.csv', sep=';', decimal=',', names=['date', 'feature_1'], index_col=[0], parse_dates=[0], date_format='%d.%m.%Y')\n",
    "df_2 = pd.read_csv('datasets/feature_2.csv', sep=';', decimal=',', names=['date', 'feature_2'], index_col=[0], parse_dates=[0], date_format='%d.%m.%Y')\n",
    "df_3 = pd.read_csv('datasets/feature_3.csv', sep=';', decimal=',', names=['date', 'feature_3'], index_col=[0], parse_dates=[0], date_format='%d.%m.%Y')"
   ]
  },
  {
   "cell_type": "markdown",
   "id": "c8454d1d-3ab3-476e-87c5-0b2e0500e1da",
   "metadata": {},
   "source": [
    "### Описание данных"
   ]
  },
  {
   "cell_type": "markdown",
   "id": "379b4899-4820-4bb3-b060-64be3c02fe6f",
   "metadata": {},
   "source": [
    "<ul>\n",
    "    <li>price - средняя оптовая цена на электроэнергию в Европе (EUR/MWh).</li>\n",
    "    <li>feature_1, feature_2, feature_3 - показатели, выбранные в качестве входящих признаков для модели (не раскрываются).</li>\n",
    "</ul>"
   ]
  },
  {
   "cell_type": "markdown",
   "id": "2cd00f24-99f9-4c5d-862e-0a51f09bbf0c",
   "metadata": {},
   "source": [
    "### Предобработка данных"
   ]
  },
  {
   "cell_type": "code",
   "execution_count": 27,
   "id": "ab00389a-f596-49a7-ac35-b59a28197e78",
   "metadata": {},
   "outputs": [],
   "source": [
    "# Функция для подсчета пропусков в столбцах датафрейма\n",
    "def check_na(df):\n",
    "    cols_na = pd.DataFrame(columns=['column','count'])\n",
    "    for col in df.columns:\n",
    "        print(col, df[col].isna().sum())"
   ]
  },
  {
   "cell_type": "markdown",
   "id": "deb8f299-a211-439f-9f6b-3b93154e67b7",
   "metadata": {},
   "source": [
    "#### price"
   ]
  },
  {
   "cell_type": "code",
   "execution_count": 28,
   "id": "3ecda2a2-2a6e-438a-8f07-e18411c9ba0b",
   "metadata": {},
   "outputs": [
    {
     "name": "stdout",
     "output_type": "stream",
     "text": [
      "<class 'pandas.core.frame.DataFrame'>\n",
      "DatetimeIndex: 95 entries, 2022-11-30 to 2015-01-31\n",
      "Data columns (total 1 columns):\n",
      " #   Column  Non-Null Count  Dtype  \n",
      "---  ------  --------------  -----  \n",
      " 0   price   95 non-null     float64\n",
      "dtypes: float64(1)\n",
      "memory usage: 1.5 KB\n"
     ]
    }
   ],
   "source": [
    "# Выведем информацию о полях датафрейма\n",
    "price.info()"
   ]
  },
  {
   "cell_type": "markdown",
   "id": "ccd0353e-ebce-4917-9c5b-95c65abd1b4e",
   "metadata": {},
   "source": [
    "<p>Наименование столбца и тип данных корректны.</p>"
   ]
  },
  {
   "cell_type": "code",
   "execution_count": 29,
   "id": "b18c1c43-30c2-4a72-b4fe-b0e04ccaa6ae",
   "metadata": {},
   "outputs": [
    {
     "name": "stdout",
     "output_type": "stream",
     "text": [
      "price 0\n"
     ]
    }
   ],
   "source": [
    "# Проверим датафрейм на пропуски\n",
    "check_na(price)"
   ]
  },
  {
   "cell_type": "markdown",
   "id": "20ea704e-c8b7-4d2d-97d1-39260eb49152",
   "metadata": {},
   "source": [
    "<p>Пропусков в данных не обнаружено.</p>"
   ]
  },
  {
   "cell_type": "markdown",
   "id": "5a0e0bdb-6a23-4870-afea-6bdf698a6c6d",
   "metadata": {},
   "source": [
    "#### feature_1"
   ]
  },
  {
   "cell_type": "code",
   "execution_count": 30,
   "id": "8083cde0-b7bc-4819-acd6-ec6874f5fade",
   "metadata": {},
   "outputs": [
    {
     "name": "stdout",
     "output_type": "stream",
     "text": [
      "<class 'pandas.core.frame.DataFrame'>\n",
      "DatetimeIndex: 162 entries, 2023-12-31 to 2010-03-31\n",
      "Data columns (total 1 columns):\n",
      " #   Column     Non-Null Count  Dtype  \n",
      "---  ------     --------------  -----  \n",
      " 0   feature_1  162 non-null    float64\n",
      "dtypes: float64(1)\n",
      "memory usage: 2.5 KB\n"
     ]
    }
   ],
   "source": [
    "# Выведем информацию о полях датафрейма\n",
    "df_1.info()"
   ]
  },
  {
   "cell_type": "markdown",
   "id": "7fc5d232-1bfb-40f3-8a20-dd761b273b2a",
   "metadata": {},
   "source": [
    "<p>Наименование столбца и тип данных корректны.</p>"
   ]
  },
  {
   "cell_type": "code",
   "execution_count": 31,
   "id": "ac2738d1-9020-4417-afb6-1339ebb4472f",
   "metadata": {},
   "outputs": [
    {
     "name": "stdout",
     "output_type": "stream",
     "text": [
      "feature_1 0\n"
     ]
    }
   ],
   "source": [
    "# Проверим датафрейм на пропуски\n",
    "check_na(df_1)"
   ]
  },
  {
   "cell_type": "markdown",
   "id": "f3564d5d-c9b0-4147-85ec-f69060a01ee8",
   "metadata": {},
   "source": [
    "<p>Пропусков в данных не обнаружено.</p>"
   ]
  },
  {
   "cell_type": "markdown",
   "id": "15b86143-ce7e-4a2d-9d92-2bc1392ad0c4",
   "metadata": {},
   "source": [
    "#### feature_2"
   ]
  },
  {
   "cell_type": "code",
   "execution_count": 32,
   "id": "c8759189-b666-4669-9ce0-98f5246ebf6e",
   "metadata": {},
   "outputs": [
    {
     "name": "stdout",
     "output_type": "stream",
     "text": [
      "<class 'pandas.core.frame.DataFrame'>\n",
      "DatetimeIndex: 162 entries, 2023-12-31 to 2010-01-31\n",
      "Data columns (total 1 columns):\n",
      " #   Column     Non-Null Count  Dtype  \n",
      "---  ------     --------------  -----  \n",
      " 0   feature_2  162 non-null    float64\n",
      "dtypes: float64(1)\n",
      "memory usage: 2.5 KB\n"
     ]
    }
   ],
   "source": [
    "# Выведем информацию о полях датафрейма\n",
    "df_2.info()"
   ]
  },
  {
   "cell_type": "markdown",
   "id": "a772f18b-ef23-4581-adb7-b7cf3ce5f089",
   "metadata": {},
   "source": [
    "<p>Наименование столбца и тип данных корректны.</p>"
   ]
  },
  {
   "cell_type": "code",
   "execution_count": 33,
   "id": "6a6c2e6a-73d7-4a90-8bcb-42474f71804b",
   "metadata": {},
   "outputs": [
    {
     "name": "stdout",
     "output_type": "stream",
     "text": [
      "feature_2 0\n"
     ]
    }
   ],
   "source": [
    "# Проверим датафрейм на пропуски\n",
    "check_na(df_2)"
   ]
  },
  {
   "cell_type": "markdown",
   "id": "3d1c3610-5708-485f-ab1c-4455a78f546d",
   "metadata": {},
   "source": [
    "<p>Пропусков в данных не обнаружено.</p>"
   ]
  },
  {
   "cell_type": "markdown",
   "id": "39f40a0a-297b-4b13-a0a9-75f5fa2e5903",
   "metadata": {},
   "source": [
    "#### feature_3"
   ]
  },
  {
   "cell_type": "code",
   "execution_count": 34,
   "id": "fd338a12-760f-4ca0-9c14-a708febd4089",
   "metadata": {},
   "outputs": [
    {
     "name": "stdout",
     "output_type": "stream",
     "text": [
      "<class 'pandas.core.frame.DataFrame'>\n",
      "DatetimeIndex: 215 entries, 2023-12-31 to 2005-05-31\n",
      "Data columns (total 1 columns):\n",
      " #   Column     Non-Null Count  Dtype  \n",
      "---  ------     --------------  -----  \n",
      " 0   feature_3  215 non-null    float64\n",
      "dtypes: float64(1)\n",
      "memory usage: 3.4 KB\n"
     ]
    }
   ],
   "source": [
    "# Выведем информацию о полях датафрейма\n",
    "df_3.info()"
   ]
  },
  {
   "cell_type": "markdown",
   "id": "2d6ea28a-9e91-47e8-a4ba-e4f93f12399d",
   "metadata": {},
   "source": [
    "<p>Наименование столбца и тип данных корректны.</p>"
   ]
  },
  {
   "cell_type": "code",
   "execution_count": 35,
   "id": "30d6f492-b3c9-458d-af87-13f6f7cc0e37",
   "metadata": {},
   "outputs": [
    {
     "name": "stdout",
     "output_type": "stream",
     "text": [
      "feature_3 0\n"
     ]
    }
   ],
   "source": [
    "# Проверим датафрейм на пропуски\n",
    "check_na(df_3)"
   ]
  },
  {
   "cell_type": "markdown",
   "id": "b9b1ef94-1d02-403d-939c-d18b721b94ae",
   "metadata": {},
   "source": [
    "<p>Пропусков в данных не обнаружено.</p>"
   ]
  },
  {
   "cell_type": "markdown",
   "id": "2f3f29ed-5523-436f-bace-badbe892a465",
   "metadata": {},
   "source": [
    "### Исследовательский анализ"
   ]
  },
  {
   "cell_type": "markdown",
   "id": "fec4ae87-ab1b-4b42-8004-467f3c9c6eee",
   "metadata": {},
   "source": [
    "#### price"
   ]
  },
  {
   "cell_type": "markdown",
   "id": "9118b6a2-9956-4517-8a1a-4c02cf302b00",
   "metadata": {},
   "source": [
    "<p>Таргет - средняя оптовая цена на электроэнергию в Европе.</p>"
   ]
  },
  {
   "cell_type": "code",
   "execution_count": 36,
   "id": "c2587f02-969b-40e8-a64e-44aacceba03e",
   "metadata": {},
   "outputs": [
    {
     "data": {
      "text/plain": [
       "count     95.000000\n",
       "mean      70.052105\n",
       "std       70.891549\n",
       "min       20.470000\n",
       "25%       37.000000\n",
       "50%       42.050000\n",
       "75%       58.015000\n",
       "max      414.680000\n",
       "Name: price, dtype: float64"
      ]
     },
     "execution_count": 36,
     "metadata": {},
     "output_type": "execute_result"
    }
   ],
   "source": [
    "price['price'].describe()"
   ]
  },
  {
   "cell_type": "markdown",
   "id": "ef7604b5-ec9d-4130-b409-fc857dedf40f",
   "metadata": {},
   "source": [
    "<p>Среднее значение 70.05, минимум 20.47, максимум 414.68.</p>\n",
    "<p>Построим график с динамикой тиргета.</p>"
   ]
  },
  {
   "cell_type": "code",
   "execution_count": 37,
   "id": "e0567f4c-4606-47a3-9e5b-c89c1d2f8756",
   "metadata": {},
   "outputs": [
    {
     "data": {
      "image/png": "[encoded data removed]",
      "text/plain": [
       "<Figure size 1600x600 with 1 Axes>"
      ]
     },
     "metadata": {},
     "output_type": "display_data"
    }
   ],
   "source": [
    "# Выведем график показателя\n",
    "plt.figure(figsize=(16, 6))\n",
    "\n",
    "# Скользящее среднее\n",
    "rolling_mean_6 = price['price'].rolling(window=6).mean()\n",
    "\n",
    "sns.lineplot(x=price.index, y=price['price'], label='price', color='green', lw=0.5).set(title='Price', xlabel='Время', ylabel='Price');\n",
    "sns.lineplot(x=rolling_mean_6.index, y=rolling_mean_6, label='Скользящее среднее (6 периодов)', color='red', lw=1)\n",
    "\n",
    "plt.show();"
   ]
  },
  {
   "cell_type": "markdown",
   "id": "c398174a-7360-469f-92ec-dbe864547756",
   "metadata": {},
   "source": [
    "<p>На графике виден значительный рост показателя с 2021 г.</p>"
   ]
  },
  {
   "cell_type": "markdown",
   "id": "9f2d2f43-a059-4e03-8271-275a32a1612d",
   "metadata": {},
   "source": [
    "### Объединение таблиц"
   ]
  },
  {
   "cell_type": "code",
   "execution_count": 38,
   "id": "48333521-a7fd-47cb-97c6-f1d3cd00cb73",
   "metadata": {},
   "outputs": [],
   "source": [
    "# Объединим таблицы\n",
    "data = pd.merge(price, df_1, on='date', how='inner')\n",
    "data = pd.merge(data, df_2, on='date', how='inner')\n",
    "data = pd.merge(data, df_3, on='date', how='inner')"
   ]
  },
  {
   "cell_type": "code",
   "execution_count": 39,
   "id": "23f0b330-5378-48d0-aec5-13a20f83d36b",
   "metadata": {},
   "outputs": [
    {
     "name": "stdout",
     "output_type": "stream",
     "text": [
      "price 0\n",
      "feature_1 0\n",
      "feature_2 0\n",
      "feature_3 0\n"
     ]
    }
   ],
   "source": [
    "# Проверим объединенный датафрейм на наличие пропусков\n",
    "check_na(data)"
   ]
  },
  {
   "cell_type": "markdown",
   "id": "dedb9718-01dd-4663-a841-966fb0afbaac",
   "metadata": {},
   "source": [
    "<p>Пропусков в данных не обнаружено.</p>"
   ]
  },
  {
   "cell_type": "markdown",
   "id": "1d3e615e-ea07-448d-835e-f8e256b156af",
   "metadata": {},
   "source": [
    "### Корреляционный анализ"
   ]
  },
  {
   "cell_type": "markdown",
   "id": "a1ddbe92-ac45-4836-a159-69e813c4f413",
   "metadata": {},
   "source": [
    "<p>Проведем корреляционный анализ признаков для выявления мультиколлинеарности, а также признаков, в наибольшей степени влияющих на таргет.</p>"
   ]
  },
  {
   "cell_type": "code",
   "execution_count": 40,
   "id": "2327e2eb-2241-43d1-ae81-b0d8f31b2666",
   "metadata": {},
   "outputs": [],
   "source": [
    "# Количественные признаки\n",
    "numerical_cols = ['feature_1',\n",
    "                  'feature_2',\n",
    "                  'feature_3']\n",
    "\n",
    "# Категорийные признаки\n",
    "categorical_cols = []\n",
    "\n",
    "# Таргет\n",
    "target = ['price']\n",
    "\n",
    "# Список признаков для проведения корреляционного анализц\n",
    "phik_cols = target + numerical_cols + categorical_cols"
   ]
  },
  {
   "cell_type": "code",
   "execution_count": 41,
   "id": "9f306927-37a7-4c80-b053-be2fcbe3de04",
   "metadata": {},
   "outputs": [],
   "source": [
    "# вычисление коэффициентов корреляции phi для датафрейма\n",
    "phik_overview = data[phik_cols].phik_matrix(interval_cols=numerical_cols+target)"
   ]
  },
  {
   "cell_type": "code",
   "execution_count": 42,
   "id": "0730b099-6f2a-4190-a379-de6c9acc544e",
   "metadata": {},
   "outputs": [
    {
     "data": {
      "image/png": "[encoded data removed]",
      "text/plain": [
       "<Figure size 600x400 with 2 Axes>"
      ]
     },
     "metadata": {},
     "output_type": "display_data"
    }
   ],
   "source": [
    "# визуализация тепловой карты коэффициентов корреляции\n",
    "plot_correlation_matrix(\n",
    "    phik_overview.values,\n",
    "    x_labels=phik_overview.columns,\n",
    "    y_labels=phik_overview.index,\n",
    "    title=r\"correlation $\\phi_K$\",\n",
    "    fontsize_factor=1,\n",
    "    figsize=(6, 4)\n",
    ")"
   ]
  },
  {
   "cell_type": "markdown",
   "id": "ac3fa0c3-a504-4002-94eb-8445004f56b8",
   "metadata": {},
   "source": [
    "<p>Наибольшую корреляцию с таргетом имеют признаки:</p>\n",
    "<ul>\n",
    "    <li>feature_1</li>\n",
    "    <li>feature_3</li>\n",
    "</ul>\n",
    "<p>Мультиколлинеарности среди признаков не наблюдается.</p>"
   ]
  },
  {
   "cell_type": "markdown",
   "id": "613cc219-f12e-41d3-a5cf-556daebb8d81",
   "metadata": {},
   "source": [
    "### Разделение на выборки"
   ]
  },
  {
   "cell_type": "code",
   "execution_count": 49,
   "id": "88f7465d-f544-4338-9527-2889ebe5c471",
   "metadata": {},
   "outputs": [
    {
     "name": "stdout",
     "output_type": "stream",
     "text": [
      "Размер тестовой выборки: 0.25\n"
     ]
    }
   ],
   "source": [
    "# Дата начала тестовых данных\n",
    "test_start_date = '2021-05-31'\n",
    "\n",
    "data = data.sort_index()\n",
    "\n",
    "# Отделяем обучающий период\n",
    "train_df = data.loc[:test_start_date]\n",
    "\n",
    "# Отделяем тестовый период\n",
    "test_df = data.loc[test_start_date:]\n",
    "\n",
    "# Формируем обучающую выборку\n",
    "X_train = train_df.drop(columns=['price'])\n",
    "y_train = train_df.price\n",
    "\n",
    "# Формируем тестовую выборку\n",
    "X_test = test_df.drop(columns=['price'])\n",
    "y_test = test_df.price\n",
    "\n",
    "print('Размер тестовой выборки:', round(len(X_test)/len(X_train),2))"
   ]
  },
  {
   "cell_type": "markdown",
   "id": "1a237ad4-ce9f-4ef9-9d39-de37dd8cd1c3",
   "metadata": {},
   "source": [
    "### Создание пайплайна"
   ]
  },
  {
   "cell_type": "markdown",
   "id": "8de699d6-d318-41ad-878a-50a52a39ab88",
   "metadata": {},
   "source": [
    "<p>Все входные признаки являются числовыми. В пайплайне оставим только подготовку числовых признаков.</p>"
   ]
  },
  {
   "cell_type": "code",
   "execution_count": 50,
   "id": "1173f143-2b56-4706-ab00-e66d30d8e888",
   "metadata": {},
   "outputs": [],
   "source": [
    "# Создаём пайплайн для подготовки признаков из списка numerical_cols\n",
    "num_pipe = Pipeline(\n",
    "    [('simpleImputer_num', SimpleImputer(missing_values=np.nan, strategy='mean')),\n",
    "     ('num', StandardScaler())\n",
    "    ]\n",
    ")\n",
    "\n",
    "# Создаём общий пайплайн для подготовки данных с num\n",
    "data_preprocessor = ColumnTransformer(\n",
    "    [('num', num_pipe, numerical_cols)\n",
    "    ], \n",
    "    remainder='passthrough'\n",
    ")"
   ]
  },
  {
   "cell_type": "code",
   "execution_count": 51,
   "id": "b86f34d8-419e-4bda-b3b4-833b8f2687c8",
   "metadata": {},
   "outputs": [],
   "source": [
    "# Инициализируем модель\n",
    "pipe = Pipeline([\n",
    "              ('preprocessor', data_preprocessor),\n",
    "              ('model', LinearRegression())\n",
    "             ])\n",
    "\n",
    "# TimeSeriesSplit для кросс-валидации по временным рядам\n",
    "tscv = TimeSeriesSplit(n_splits=3)"
   ]
  },
  {
   "cell_type": "code",
   "execution_count": 52,
   "id": "e177783f-2ba3-4b54-9dac-8ea7ee3e157e",
   "metadata": {},
   "outputs": [
    {
     "name": "stdout",
     "output_type": "stream",
     "text": [
      "CPU times: user 37.2 ms, sys: 19.8 ms, total: 57 ms\n",
      "Wall time: 103 ms\n"
     ]
    }
   ],
   "source": [
    "%%time\n",
    "\n",
    "# Вычислим метрику mse на кросс-валидации\n",
    "mse = -cross_val_score(pipe,\n",
    "                       X_train,\n",
    "                       y_train,\n",
    "                       cv=tscv,\n",
    "                       scoring='neg_mean_squared_error')"
   ]
  },
  {
   "cell_type": "code",
   "execution_count": 53,
   "id": "2ccc33fa-20de-413e-91c7-bb66639bc0f3",
   "metadata": {},
   "outputs": [
    {
     "name": "stdout",
     "output_type": "stream",
     "text": [
      "RMSE модели:  9.75\n"
     ]
    }
   ],
   "source": [
    "# Вычислим метрику rmse\n",
    "rmse = np.sqrt(mse.mean())\n",
    "\n",
    "# Выведем rmse модели на обучающих данных\n",
    "print('RMSE модели: ', round(rmse, 2))"
   ]
  },
  {
   "cell_type": "code",
   "execution_count": 54,
   "id": "5d2ff533-73fc-495f-9747-766eaced19c4",
   "metadata": {},
   "outputs": [
    {
     "name": "stdout",
     "output_type": "stream",
     "text": [
      "CPU times: user 10.6 ms, sys: 1.82 ms, total: 12.4 ms\n",
      "Wall time: 11.9 ms\n"
     ]
    },
    {
     "data": {
      "text/html": [
       "<style>#sk-container-id-1 {\n",
       "  /* Definition of color scheme common for light and dark mode */\n",
       "  --sklearn-color-text: #000;\n",
       "  --sklearn-color-text-muted: #666;\n",
       "  --sklearn-color-line: gray;\n",
       "  /* Definition of color scheme for unfitted estimators */\n",
       "  --sklearn-color-unfitted-level-0: #fff5e6;\n",
       "  --sklearn-color-unfitted-level-1: #f6e4d2;\n",
       "  --sklearn-color-unfitted-level-2: #ffe0b3;\n",
       "  --sklearn-color-unfitted-level-3: chocolate;\n",
       "  /* Definition of color scheme for fitted estimators */\n",
       "  --sklearn-color-fitted-level-0: #f0f8ff;\n",
       "  --sklearn-color-fitted-level-1: #d4ebff;\n",
       "  --sklearn-color-fitted-level-2: #b3dbfd;\n",
       "  --sklearn-color-fitted-level-3: cornflowerblue;\n",
       "\n",
       "  /* Specific color for light theme */\n",
       "  --sklearn-color-text-on-default-background: var(--sg-text-color, var(--theme-code-foreground, var(--jp-content-font-color1, black)));\n",
       "  --sklearn-color-background: var(--sg-background-color, var(--theme-background, var(--jp-layout-color0, white)));\n",
       "  --sklearn-color-border-box: var(--sg-text-color, var(--theme-code-foreground, var(--jp-content-font-color1, black)));\n",
       "  --sklearn-color-icon: #696969;\n",
       "\n",
       "  @media (prefers-color-scheme: dark) {\n",
       "    /* Redefinition of color scheme for dark theme */\n",
       "    --sklearn-color-text-on-default-background: var(--sg-text-color, var(--theme-code-foreground, var(--jp-content-font-color1, white)));\n",
       "    --sklearn-color-background: var(--sg-background-color, var(--theme-background, var(--jp-layout-color0, #111)));\n",
       "    --sklearn-color-border-box: var(--sg-text-color, var(--theme-code-foreground, var(--jp-content-font-color1, white)));\n",
       "    --sklearn-color-icon: #878787;\n",
       "  }\n",
       "}\n",
       "\n",
       "#sk-container-id-1 {\n",
       "  color: var(--sklearn-color-text);\n",
       "}\n",
       "\n",
       "#sk-container-id-1 pre {\n",
       "  padding: 0;\n",
       "}\n",
       "\n",
       "#sk-container-id-1 input.sk-hidden--visually {\n",
       "  border: 0;\n",
       "  clip: rect(1px 1px 1px 1px);\n",
       "  clip: rect(1px, 1px, 1px, 1px);\n",
       "  height: 1px;\n",
       "  margin: -1px;\n",
       "  overflow: hidden;\n",
       "  padding: 0;\n",
       "  position: absolute;\n",
       "  width: 1px;\n",
       "}\n",
       "\n",
       "#sk-container-id-1 div.sk-dashed-wrapped {\n",
       "  border: 1px dashed var(--sklearn-color-line);\n",
       "  margin: 0 0.4em 0.5em 0.4em;\n",
       "  box-sizing: border-box;\n",
       "  padding-bottom: 0.4em;\n",
       "  background-color: var(--sklearn-color-background);\n",
       "}\n",
       "\n",
       "#sk-container-id-1 div.sk-container {\n",
       "  /* jupyter's `normalize.less` sets `[hidden] { display: none; }`\n",
       "     but bootstrap.min.css set `[hidden] { display: none !important; }`\n",
       "     so we also need the `!important` here to be able to override the\n",
       "     default hidden behavior on the sphinx rendered scikit-learn.org.\n",
       "     See: https://github.com/scikit-learn/scikit-learn/issues/21755 */\n",
       "  display: inline-block !important;\n",
       "  position: relative;\n",
       "}\n",
       "\n",
       "#sk-container-id-1 div.sk-text-repr-fallback {\n",
       "  display: none;\n",
       "}\n",
       "\n",
       "div.sk-parallel-item,\n",
       "div.sk-serial,\n",
       "div.sk-item {\n",
       "  /* draw centered vertical line to link estimators */\n",
       "  background-image: linear-gradient(var(--sklearn-color-text-on-default-background), var(--sklearn-color-text-on-default-background));\n",
       "  background-size: 2px 100%;\n",
       "  background-repeat: no-repeat;\n",
       "  background-position: center center;\n",
       "}\n",
       "\n",
       "/* Parallel-specific style estimator block */\n",
       "\n",
       "#sk-container-id-1 div.sk-parallel-item::after {\n",
       "  content: \"\";\n",
       "  width: 100%;\n",
       "  border-bottom: 2px solid var(--sklearn-color-text-on-default-background);\n",
       "  flex-grow: 1;\n",
       "}\n",
       "\n",
       "#sk-container-id-1 div.sk-parallel {\n",
       "  display: flex;\n",
       "  align-items: stretch;\n",
       "  justify-content: center;\n",
       "  background-color: var(--sklearn-color-background);\n",
       "  position: relative;\n",
       "}\n",
       "\n",
       "#sk-container-id-1 div.sk-parallel-item {\n",
       "  display: flex;\n",
       "  flex-direction: column;\n",
       "}\n",
       "\n",
       "#sk-container-id-1 div.sk-parallel-item:first-child::after {\n",
       "  align-self: flex-end;\n",
       "  width: 50%;\n",
       "}\n",
       "\n",
       "#sk-container-id-1 div.sk-parallel-item:last-child::after {\n",
       "  align-self: flex-start;\n",
       "  width: 50%;\n",
       "}\n",
       "\n",
       "#sk-container-id-1 div.sk-parallel-item:only-child::after {\n",
       "  width: 0;\n",
       "}\n",
       "\n",
       "/* Serial-specific style estimator block */\n",
       "\n",
       "#sk-container-id-1 div.sk-serial {\n",
       "  display: flex;\n",
       "  flex-direction: column;\n",
       "  align-items: center;\n",
       "  background-color: var(--sklearn-color-background);\n",
       "  padding-right: 1em;\n",
       "  padding-left: 1em;\n",
       "}\n",
       "\n",
       "\n",
       "/* Toggleable style: style used for estimator/Pipeline/ColumnTransformer box that is\n",
       "clickable and can be expanded/collapsed.\n",
       "- Pipeline and ColumnTransformer use this feature and define the default style\n",
       "- Estimators will overwrite some part of the style using the `sk-estimator` class\n",
       "*/\n",
       "\n",
       "/* Pipeline and ColumnTransformer style (default) */\n",
       "\n",
       "#sk-container-id-1 div.sk-toggleable {\n",
       "  /* Default theme specific background. It is overwritten whether we have a\n",
       "  specific estimator or a Pipeline/ColumnTransformer */\n",
       "  background-color: var(--sklearn-color-background);\n",
       "}\n",
       "\n",
       "/* Toggleable label */\n",
       "#sk-container-id-1 label.sk-toggleable__label {\n",
       "  cursor: pointer;\n",
       "  display: flex;\n",
       "  width: 100%;\n",
       "  margin-bottom: 0;\n",
       "  padding: 0.5em;\n",
       "  box-sizing: border-box;\n",
       "  text-align: center;\n",
       "  align-items: start;\n",
       "  justify-content: space-between;\n",
       "  gap: 0.5em;\n",
       "}\n",
       "\n",
       "#sk-container-id-1 label.sk-toggleable__label .caption {\n",
       "  font-size: 0.6rem;\n",
       "  font-weight: lighter;\n",
       "  color: var(--sklearn-color-text-muted);\n",
       "}\n",
       "\n",
       "#sk-container-id-1 label.sk-toggleable__label-arrow:before {\n",
       "  /* Arrow on the left of the label */\n",
       "  content: \"▸\";\n",
       "  float: left;\n",
       "  margin-right: 0.25em;\n",
       "  color: var(--sklearn-color-icon);\n",
       "}\n",
       "\n",
       "#sk-container-id-1 label.sk-toggleable__label-arrow:hover:before {\n",
       "  color: var(--sklearn-color-text);\n",
       "}\n",
       "\n",
       "/* Toggleable content - dropdown */\n",
       "\n",
       "#sk-container-id-1 div.sk-toggleable__content {\n",
       "  max-height: 0;\n",
       "  max-width: 0;\n",
       "  overflow: hidden;\n",
       "  text-align: left;\n",
       "  /* unfitted */\n",
       "  background-color: var(--sklearn-color-unfitted-level-0);\n",
       "}\n",
       "\n",
       "#sk-container-id-1 div.sk-toggleable__content.fitted {\n",
       "  /* fitted */\n",
       "  background-color: var(--sklearn-color-fitted-level-0);\n",
       "}\n",
       "\n",
       "#sk-container-id-1 div.sk-toggleable__content pre {\n",
       "  margin: 0.2em;\n",
       "  border-radius: 0.25em;\n",
       "  color: var(--sklearn-color-text);\n",
       "  /* unfitted */\n",
       "  background-color: var(--sklearn-color-unfitted-level-0);\n",
       "}\n",
       "\n",
       "#sk-container-id-1 div.sk-toggleable__content.fitted pre {\n",
       "  /* unfitted */\n",
       "  background-color: var(--sklearn-color-fitted-level-0);\n",
       "}\n",
       "\n",
       "#sk-container-id-1 input.sk-toggleable__control:checked~div.sk-toggleable__content {\n",
       "  /* Expand drop-down */\n",
       "  max-height: 200px;\n",
       "  max-width: 100%;\n",
       "  overflow: auto;\n",
       "}\n",
       "\n",
       "#sk-container-id-1 input.sk-toggleable__control:checked~label.sk-toggleable__label-arrow:before {\n",
       "  content: \"▾\";\n",
       "}\n",
       "\n",
       "/* Pipeline/ColumnTransformer-specific style */\n",
       "\n",
       "#sk-container-id-1 div.sk-label input.sk-toggleable__control:checked~label.sk-toggleable__label {\n",
       "  color: var(--sklearn-color-text);\n",
       "  background-color: var(--sklearn-color-unfitted-level-2);\n",
       "}\n",
       "\n",
       "#sk-container-id-1 div.sk-label.fitted input.sk-toggleable__control:checked~label.sk-toggleable__label {\n",
       "  background-color: var(--sklearn-color-fitted-level-2);\n",
       "}\n",
       "\n",
       "/* Estimator-specific style */\n",
       "\n",
       "/* Colorize estimator box */\n",
       "#sk-container-id-1 div.sk-estimator input.sk-toggleable__control:checked~label.sk-toggleable__label {\n",
       "  /* unfitted */\n",
       "  background-color: var(--sklearn-color-unfitted-level-2);\n",
       "}\n",
       "\n",
       "#sk-container-id-1 div.sk-estimator.fitted input.sk-toggleable__control:checked~label.sk-toggleable__label {\n",
       "  /* fitted */\n",
       "  background-color: var(--sklearn-color-fitted-level-2);\n",
       "}\n",
       "\n",
       "#sk-container-id-1 div.sk-label label.sk-toggleable__label,\n",
       "#sk-container-id-1 div.sk-label label {\n",
       "  /* The background is the default theme color */\n",
       "  color: var(--sklearn-color-text-on-default-background);\n",
       "}\n",
       "\n",
       "/* On hover, darken the color of the background */\n",
       "#sk-container-id-1 div.sk-label:hover label.sk-toggleable__label {\n",
       "  color: var(--sklearn-color-text);\n",
       "  background-color: var(--sklearn-color-unfitted-level-2);\n",
       "}\n",
       "\n",
       "/* Label box, darken color on hover, fitted */\n",
       "#sk-container-id-1 div.sk-label.fitted:hover label.sk-toggleable__label.fitted {\n",
       "  color: var(--sklearn-color-text);\n",
       "  background-color: var(--sklearn-color-fitted-level-2);\n",
       "}\n",
       "\n",
       "/* Estimator label */\n",
       "\n",
       "#sk-container-id-1 div.sk-label label {\n",
       "  font-family: monospace;\n",
       "  font-weight: bold;\n",
       "  display: inline-block;\n",
       "  line-height: 1.2em;\n",
       "}\n",
       "\n",
       "#sk-container-id-1 div.sk-label-container {\n",
       "  text-align: center;\n",
       "}\n",
       "\n",
       "/* Estimator-specific */\n",
       "#sk-container-id-1 div.sk-estimator {\n",
       "  font-family: monospace;\n",
       "  border: 1px dotted var(--sklearn-color-border-box);\n",
       "  border-radius: 0.25em;\n",
       "  box-sizing: border-box;\n",
       "  margin-bottom: 0.5em;\n",
       "  /* unfitted */\n",
       "  background-color: var(--sklearn-color-unfitted-level-0);\n",
       "}\n",
       "\n",
       "#sk-container-id-1 div.sk-estimator.fitted {\n",
       "  /* fitted */\n",
       "  background-color: var(--sklearn-color-fitted-level-0);\n",
       "}\n",
       "\n",
       "/* on hover */\n",
       "#sk-container-id-1 div.sk-estimator:hover {\n",
       "  /* unfitted */\n",
       "  background-color: var(--sklearn-color-unfitted-level-2);\n",
       "}\n",
       "\n",
       "#sk-container-id-1 div.sk-estimator.fitted:hover {\n",
       "  /* fitted */\n",
       "  background-color: var(--sklearn-color-fitted-level-2);\n",
       "}\n",
       "\n",
       "/* Specification for estimator info (e.g. \"i\" and \"?\") */\n",
       "\n",
       "/* Common style for \"i\" and \"?\" */\n",
       "\n",
       ".sk-estimator-doc-link,\n",
       "a:link.sk-estimator-doc-link,\n",
       "a:visited.sk-estimator-doc-link {\n",
       "  float: right;\n",
       "  font-size: smaller;\n",
       "  line-height: 1em;\n",
       "  font-family: monospace;\n",
       "  background-color: var(--sklearn-color-background);\n",
       "  border-radius: 1em;\n",
       "  height: 1em;\n",
       "  width: 1em;\n",
       "  text-decoration: none !important;\n",
       "  margin-left: 0.5em;\n",
       "  text-align: center;\n",
       "  /* unfitted */\n",
       "  border: var(--sklearn-color-unfitted-level-1) 1pt solid;\n",
       "  color: var(--sklearn-color-unfitted-level-1);\n",
       "}\n",
       "\n",
       ".sk-estimator-doc-link.fitted,\n",
       "a:link.sk-estimator-doc-link.fitted,\n",
       "a:visited.sk-estimator-doc-link.fitted {\n",
       "  /* fitted */\n",
       "  border: var(--sklearn-color-fitted-level-1) 1pt solid;\n",
       "  color: var(--sklearn-color-fitted-level-1);\n",
       "}\n",
       "\n",
       "/* On hover */\n",
       "div.sk-estimator:hover .sk-estimator-doc-link:hover,\n",
       ".sk-estimator-doc-link:hover,\n",
       "div.sk-label-container:hover .sk-estimator-doc-link:hover,\n",
       ".sk-estimator-doc-link:hover {\n",
       "  /* unfitted */\n",
       "  background-color: var(--sklearn-color-unfitted-level-3);\n",
       "  color: var(--sklearn-color-background);\n",
       "  text-decoration: none;\n",
       "}\n",
       "\n",
       "div.sk-estimator.fitted:hover .sk-estimator-doc-link.fitted:hover,\n",
       ".sk-estimator-doc-link.fitted:hover,\n",
       "div.sk-label-container:hover .sk-estimator-doc-link.fitted:hover,\n",
       ".sk-estimator-doc-link.fitted:hover {\n",
       "  /* fitted */\n",
       "  background-color: var(--sklearn-color-fitted-level-3);\n",
       "  color: var(--sklearn-color-background);\n",
       "  text-decoration: none;\n",
       "}\n",
       "\n",
       "/* Span, style for the box shown on hovering the info icon */\n",
       ".sk-estimator-doc-link span {\n",
       "  display: none;\n",
       "  z-index: 9999;\n",
       "  position: relative;\n",
       "  font-weight: normal;\n",
       "  right: .2ex;\n",
       "  padding: .5ex;\n",
       "  margin: .5ex;\n",
       "  width: min-content;\n",
       "  min-width: 20ex;\n",
       "  max-width: 50ex;\n",
       "  color: var(--sklearn-color-text);\n",
       "  box-shadow: 2pt 2pt 4pt #999;\n",
       "  /* unfitted */\n",
       "  background: var(--sklearn-color-unfitted-level-0);\n",
       "  border: .5pt solid var(--sklearn-color-unfitted-level-3);\n",
       "}\n",
       "\n",
       ".sk-estimator-doc-link.fitted span {\n",
       "  /* fitted */\n",
       "  background: var(--sklearn-color-fitted-level-0);\n",
       "  border: var(--sklearn-color-fitted-level-3);\n",
       "}\n",
       "\n",
       ".sk-estimator-doc-link:hover span {\n",
       "  display: block;\n",
       "}\n",
       "\n",
       "/* \"?\"-specific style due to the `<a>` HTML tag */\n",
       "\n",
       "#sk-container-id-1 a.estimator_doc_link {\n",
       "  float: right;\n",
       "  font-size: 1rem;\n",
       "  line-height: 1em;\n",
       "  font-family: monospace;\n",
       "  background-color: var(--sklearn-color-background);\n",
       "  border-radius: 1rem;\n",
       "  height: 1rem;\n",
       "  width: 1rem;\n",
       "  text-decoration: none;\n",
       "  /* unfitted */\n",
       "  color: var(--sklearn-color-unfitted-level-1);\n",
       "  border: var(--sklearn-color-unfitted-level-1) 1pt solid;\n",
       "}\n",
       "\n",
       "#sk-container-id-1 a.estimator_doc_link.fitted {\n",
       "  /* fitted */\n",
       "  border: var(--sklearn-color-fitted-level-1) 1pt solid;\n",
       "  color: var(--sklearn-color-fitted-level-1);\n",
       "}\n",
       "\n",
       "/* On hover */\n",
       "#sk-container-id-1 a.estimator_doc_link:hover {\n",
       "  /* unfitted */\n",
       "  background-color: var(--sklearn-color-unfitted-level-3);\n",
       "  color: var(--sklearn-color-background);\n",
       "  text-decoration: none;\n",
       "}\n",
       "\n",
       "#sk-container-id-1 a.estimator_doc_link.fitted:hover {\n",
       "  /* fitted */\n",
       "  background-color: var(--sklearn-color-fitted-level-3);\n",
       "}\n",
       "</style><div id=\"sk-container-id-1\" class=\"sk-top-container\"><div class=\"sk-text-repr-fallback\"><pre>Pipeline(steps=[(&#x27;preprocessor&#x27;,\n",
       "                 ColumnTransformer(remainder=&#x27;passthrough&#x27;,\n",
       "                                   transformers=[(&#x27;num&#x27;,\n",
       "                                                  Pipeline(steps=[(&#x27;simpleImputer_num&#x27;,\n",
       "                                                                   SimpleImputer()),\n",
       "                                                                  (&#x27;num&#x27;,\n",
       "                                                                   StandardScaler())]),\n",
       "                                                  [&#x27;feature_1&#x27;, &#x27;feature_2&#x27;,\n",
       "                                                   &#x27;feature_3&#x27;])])),\n",
       "                (&#x27;model&#x27;, LinearRegression())])</pre><b>In a Jupyter environment, please rerun this cell to show the HTML representation or trust the notebook. <br />On GitHub, the HTML representation is unable to render, please try loading this page with nbviewer.org.</b></div><div class=\"sk-container\" hidden><div class=\"sk-item sk-dashed-wrapped\"><div class=\"sk-label-container\"><div class=\"sk-label fitted sk-toggleable\"><input class=\"sk-toggleable__control sk-hidden--visually\" id=\"sk-estimator-id-1\" type=\"checkbox\" ><label for=\"sk-estimator-id-1\" class=\"sk-toggleable__label fitted sk-toggleable__label-arrow\"><div><div>Pipeline</div></div><div><a class=\"sk-estimator-doc-link fitted\" rel=\"noreferrer\" target=\"_blank\" href=\"https://scikit-learn.org/1.6/modules/generated/sklearn.pipeline.Pipeline.html\">?<span>Documentation for Pipeline</span></a><span class=\"sk-estimator-doc-link fitted\">i<span>Fitted</span></span></div></label><div class=\"sk-toggleable__content fitted\"><pre>Pipeline(steps=[(&#x27;preprocessor&#x27;,\n",
       "                 ColumnTransformer(remainder=&#x27;passthrough&#x27;,\n",
       "                                   transformers=[(&#x27;num&#x27;,\n",
       "                                                  Pipeline(steps=[(&#x27;simpleImputer_num&#x27;,\n",
       "                                                                   SimpleImputer()),\n",
       "                                                                  (&#x27;num&#x27;,\n",
       "                                                                   StandardScaler())]),\n",
       "                                                  [&#x27;feature_1&#x27;, &#x27;feature_2&#x27;,\n",
       "                                                   &#x27;feature_3&#x27;])])),\n",
       "                (&#x27;model&#x27;, LinearRegression())])</pre></div> </div></div><div class=\"sk-serial\"><div class=\"sk-item sk-dashed-wrapped\"><div class=\"sk-label-container\"><div class=\"sk-label fitted sk-toggleable\"><input class=\"sk-toggleable__control sk-hidden--visually\" id=\"sk-estimator-id-2\" type=\"checkbox\" ><label for=\"sk-estimator-id-2\" class=\"sk-toggleable__label fitted sk-toggleable__label-arrow\"><div><div>preprocessor: ColumnTransformer</div></div><div><a class=\"sk-estimator-doc-link fitted\" rel=\"noreferrer\" target=\"_blank\" href=\"https://scikit-learn.org/1.6/modules/generated/sklearn.compose.ColumnTransformer.html\">?<span>Documentation for preprocessor: ColumnTransformer</span></a></div></label><div class=\"sk-toggleable__content fitted\"><pre>ColumnTransformer(remainder=&#x27;passthrough&#x27;,\n",
       "                  transformers=[(&#x27;num&#x27;,\n",
       "                                 Pipeline(steps=[(&#x27;simpleImputer_num&#x27;,\n",
       "                                                  SimpleImputer()),\n",
       "                                                 (&#x27;num&#x27;, StandardScaler())]),\n",
       "                                 [&#x27;feature_1&#x27;, &#x27;feature_2&#x27;, &#x27;feature_3&#x27;])])</pre></div> </div></div><div class=\"sk-parallel\"><div class=\"sk-parallel-item\"><div class=\"sk-item\"><div class=\"sk-label-container\"><div class=\"sk-label fitted sk-toggleable\"><input class=\"sk-toggleable__control sk-hidden--visually\" id=\"sk-estimator-id-3\" type=\"checkbox\" ><label for=\"sk-estimator-id-3\" class=\"sk-toggleable__label fitted sk-toggleable__label-arrow\"><div><div>num</div></div></label><div class=\"sk-toggleable__content fitted\"><pre>[&#x27;feature_1&#x27;, &#x27;feature_2&#x27;, &#x27;feature_3&#x27;]</pre></div> </div></div><div class=\"sk-serial\"><div class=\"sk-item\"><div class=\"sk-serial\"><div class=\"sk-item\"><div class=\"sk-estimator fitted sk-toggleable\"><input class=\"sk-toggleable__control sk-hidden--visually\" id=\"sk-estimator-id-4\" type=\"checkbox\" ><label for=\"sk-estimator-id-4\" class=\"sk-toggleable__label fitted sk-toggleable__label-arrow\"><div><div>SimpleImputer</div></div><div><a class=\"sk-estimator-doc-link fitted\" rel=\"noreferrer\" target=\"_blank\" href=\"https://scikit-learn.org/1.6/modules/generated/sklearn.impute.SimpleImputer.html\">?<span>Documentation for SimpleImputer</span></a></div></label><div class=\"sk-toggleable__content fitted\"><pre>SimpleImputer()</pre></div> </div></div><div class=\"sk-item\"><div class=\"sk-estimator fitted sk-toggleable\"><input class=\"sk-toggleable__control sk-hidden--visually\" id=\"sk-estimator-id-5\" type=\"checkbox\" ><label for=\"sk-estimator-id-5\" class=\"sk-toggleable__label fitted sk-toggleable__label-arrow\"><div><div>StandardScaler</div></div><div><a class=\"sk-estimator-doc-link fitted\" rel=\"noreferrer\" target=\"_blank\" href=\"https://scikit-learn.org/1.6/modules/generated/sklearn.preprocessing.StandardScaler.html\">?<span>Documentation for StandardScaler</span></a></div></label><div class=\"sk-toggleable__content fitted\"><pre>StandardScaler()</pre></div> </div></div></div></div></div></div></div><div class=\"sk-parallel-item\"><div class=\"sk-item\"><div class=\"sk-label-container\"><div class=\"sk-label fitted sk-toggleable\"><input class=\"sk-toggleable__control sk-hidden--visually\" id=\"sk-estimator-id-6\" type=\"checkbox\" ><label for=\"sk-estimator-id-6\" class=\"sk-toggleable__label fitted sk-toggleable__label-arrow\"><div><div>remainder</div></div></label><div class=\"sk-toggleable__content fitted\"><pre>[]</pre></div> </div></div><div class=\"sk-serial\"><div class=\"sk-item\"><div class=\"sk-estimator fitted sk-toggleable\"><input class=\"sk-toggleable__control sk-hidden--visually\" id=\"sk-estimator-id-7\" type=\"checkbox\" ><label for=\"sk-estimator-id-7\" class=\"sk-toggleable__label fitted sk-toggleable__label-arrow\"><div><div>passthrough</div></div></label><div class=\"sk-toggleable__content fitted\"><pre>passthrough</pre></div> </div></div></div></div></div></div></div><div class=\"sk-item\"><div class=\"sk-estimator fitted sk-toggleable\"><input class=\"sk-toggleable__control sk-hidden--visually\" id=\"sk-estimator-id-8\" type=\"checkbox\" ><label for=\"sk-estimator-id-8\" class=\"sk-toggleable__label fitted sk-toggleable__label-arrow\"><div><div>LinearRegression</div></div><div><a class=\"sk-estimator-doc-link fitted\" rel=\"noreferrer\" target=\"_blank\" href=\"https://scikit-learn.org/1.6/modules/generated/sklearn.linear_model.LinearRegression.html\">?<span>Documentation for LinearRegression</span></a></div></label><div class=\"sk-toggleable__content fitted\"><pre>LinearRegression()</pre></div> </div></div></div></div></div></div>"
      ],
      "text/plain": [
       "Pipeline(steps=[('preprocessor',\n",
       "                 ColumnTransformer(remainder='passthrough',\n",
       "                                   transformers=[('num',\n",
       "                                                  Pipeline(steps=[('simpleImputer_num',\n",
       "                                                                   SimpleImputer()),\n",
       "                                                                  ('num',\n",
       "                                                                   StandardScaler())]),\n",
       "                                                  ['feature_1', 'feature_2',\n",
       "                                                   'feature_3'])])),\n",
       "                ('model', LinearRegression())])"
      ]
     },
     "execution_count": 54,
     "metadata": {},
     "output_type": "execute_result"
    }
   ],
   "source": [
    "%%time\n",
    "\n",
    "# Обучим модель на тренировочной выборке\n",
    "pipe.fit(X_train, y_train)"
   ]
  },
  {
   "cell_type": "code",
   "execution_count": 55,
   "id": "f1bb56f8-877c-4052-b257-a6a0f88641d3",
   "metadata": {},
   "outputs": [
    {
     "name": "stdout",
     "output_type": "stream",
     "text": [
      "CPU times: user 12.8 ms, sys: 585 µs, total: 13.4 ms\n",
      "Wall time: 13.1 ms\n"
     ]
    }
   ],
   "source": [
    "%%time\n",
    "\n",
    "# Выполним предсказание на обучающей выборке\n",
    "y_pred_train = pipe.predict(X_train)\n",
    "\n",
    "# Выполним предсказание на тестовой выборке\n",
    "y_pred_test = pipe.predict(X_test)"
   ]
  },
  {
   "cell_type": "code",
   "execution_count": 56,
   "id": "9af3a466-9187-424e-b9a0-9bc561c4a83a",
   "metadata": {},
   "outputs": [
    {
     "name": "stdout",
     "output_type": "stream",
     "text": [
      "RMSE на тестовых данных: 45.2192\n"
     ]
    }
   ],
   "source": [
    "# Вычислим RMSE для тестовой выборки\n",
    "rmse = np.sqrt(mean_squared_error(y_test, y_pred_test))\n",
    "\n",
    "print(\"RMSE на тестовых данных:\", round(rmse, 4))"
   ]
  },
  {
   "cell_type": "markdown",
   "id": "0141aee3-126c-4e51-8b06-4bf5d3c4ff58",
   "metadata": {},
   "source": [
    "### Оценка важности признаков"
   ]
  },
  {
   "cell_type": "code",
   "execution_count": 58,
   "id": "6dc13edf-7d12-4c59-9f79-be95d2d5e82b",
   "metadata": {},
   "outputs": [
    {
     "data": {
      "image/png": "[encoded data removed]",
      "text/plain": [
       "<Figure size 600x400 with 1 Axes>"
      ]
     },
     "metadata": {},
     "output_type": "display_data"
    }
   ],
   "source": [
    "# Получим коэффициенты модели\n",
    "coefficients = pipe.named_steps['model'].coef_\n",
    "\n",
    "# Выведем важность признаков\n",
    "feature_importances = dict(zip(X_train.columns, coefficients))\n",
    "sorted_importances = sorted(feature_importances.items(), key=lambda x: abs(x[1]), reverse=True)\n",
    "\n",
    "# Подготавим данные для графика\n",
    "features, importances = zip(*sorted_importances)\n",
    "colors = ['green' if imp > 0 else 'red' for imp in importances]\n",
    "abs_importances = [abs(imp) for imp in importances]  # Получаем абсолютные значения\n",
    "\n",
    "# Выведем график\n",
    "plt.figure(figsize=(6, 4))\n",
    "sns.barplot(x=abs_importances, y=features, hue=features, palette=colors, legend=False)\n",
    "plt.xlabel('Важность признака')\n",
    "plt.title('Важность признаков')\n",
    "plt.grid(alpha=0.4)\n",
    "plt.show()"
   ]
  },
  {
   "cell_type": "markdown",
   "id": "dd71653a-d7f1-41c6-a48d-9eaac338356d",
   "metadata": {},
   "source": [
    "<p>Наиболее важные признаки:</p>\n",
    "<ul>\n",
    "    <li>feature_3 - положительное влияние на таргет.</li>\n",
    "    <li>feature_1 - положительное влияние.</li>\n",
    "    <li>feature_2 - отрицательное влияние.</li>\n",
    "</ul>"
   ]
  },
  {
   "cell_type": "markdown",
   "id": "f63efc15-37fb-472a-b77f-e1c5000d2d36",
   "metadata": {},
   "source": [
    "### Вывод графика модели"
   ]
  },
  {
   "cell_type": "markdown",
   "id": "49f8287f-c87b-4b5c-9858-9ba3afe8644a",
   "metadata": {},
   "source": [
    "<p>Выведем график с динамикой таргета и предсказанием модели.</p>\n",
    "<p>Учтем резкий рост таргета в 2021 г., в результате чего изменяется база при сравнении с величиной ошибки. Для устранения влияния эффекта базы выведем данные на графике с логарифмических масштабом по шакле y.</p>"
   ]
  },
  {
   "cell_type": "code",
   "execution_count": 63,
   "id": "0a8b0855-0a30-4273-bd1a-8af899ce74e8",
   "metadata": {},
   "outputs": [
    {
     "data": {
      "image/png": "[encoded data removed]",
      "text/plain": [
       "<Figure size 1600x600 with 1 Axes>"
      ]
     },
     "metadata": {},
     "output_type": "display_data"
    }
   ],
   "source": [
    "# Выведем график, демонстрирующий работу модели\n",
    "plt.figure(figsize=(16, 6))\n",
    "\n",
    "# Тренировочный период\n",
    "sns.lineplot(y=y_pred_train, x=train_df.index, label='Модель (трейн)', color='red', lw=2).set(title='Price', xlabel='Время', ylabel='Price');\n",
    "sns.lineplot(data=train_df['price'], label='Price', color='green', lw=0.5)\n",
    "\n",
    "# Скользящее среднее\n",
    "rolling_mean_train = train_df['price'].shift(periods=-3).rolling(window=6).mean()\n",
    "sns.lineplot(x=rolling_mean_train.index, y=rolling_mean_train, label='Скользящее среднее', color='blue', lw=1.5)\n",
    "\n",
    "# Тестовый период\n",
    "sns.lineplot(y=y_pred_test, x=test_df.index, label='Модель (тест)', color='orange', lw=2).set(title='Price', xlabel='Время', ylabel='Price');\n",
    "sns.lineplot(data=test_df['price'], color='green', lw=0.5)\n",
    "\n",
    "plt.axvline(x=pd.to_datetime('2021-05-31'), color='red', linestyle='--')\n",
    "\n",
    "plt.text(x=pd.to_datetime('2021-08-31'), y=test_df['price'].min()-20, s='Тестовый период', color='black')\n",
    "\n",
    "# Установим логарифмический масштаб по оси Y\n",
    "plt.gca().set_yscale('log')\n",
    "\n",
    "plt.show();"
   ]
  },
  {
   "cell_type": "markdown",
   "id": "d1bb90cc-0a55-47a2-9d1f-58dee5a4d8f4",
   "metadata": {},
   "source": [
    "<p>На графике видно, что модель хорошо объясняет среднее значение таргета.</p>\n",
    "<p>Вычислим корреляцию между скользящим средим значением таргета и предсказанным значением на трейне.</p>"
   ]
  },
  {
   "cell_type": "code",
   "execution_count": 61,
   "id": "c5672315-41fe-4c2c-a10d-7a55d600a008",
   "metadata": {},
   "outputs": [
    {
     "name": "stdout",
     "output_type": "stream",
     "text": [
      "Корреляция между скользящим средним и предсказаниями модели: 0.93\n"
     ]
    }
   ],
   "source": [
    "# Преобразуем y_pred_train в Series\n",
    "y_pred_train_series = pd.Series(y_pred_train, index=train_df.index)\n",
    "\n",
    "# Рассчитаем корреляцию\n",
    "correlation = round(rolling_mean_train.corr(y_pred_train_series), 2)\n",
    "\n",
    "print(f\"Корреляция между скользящим средним и предсказаниями модели: {correlation}\")"
   ]
  },
  {
   "cell_type": "markdown",
   "id": "ebecf3f4-4738-43fe-9280-f9aebfecced1",
   "metadata": {},
   "source": [
    "## Выводы"
   ]
  },
  {
   "cell_type": "markdown",
   "id": "35cb4f68-88a3-4b49-ad3f-3f7dd48583d4",
   "metadata": {},
   "source": [
    "<p>В ходе работы над моделью были выполнены следующие действия:</p>\n",
    "<ul>\n",
    "    <li>Загружены необходимые библиотеки.</li>\n",
    "    <li>Загружены данных из csv-файлов.</li>\n",
    "    <li>Проведена предобработка данных: проведена проверка на пропуски, корретность типов данных.</li>\n",
    "    <li>Проведен исследовательский анализ таргета.</li>\n",
    "    <li>Произведено объединение таблиц.</li>\n",
    "    <li>Проведен корреляционный анализ признаков. Выявлены признаки с наибольшей корреляцией с таргетом, проведена проверка признаков на мультиколлинеарность (мультиколлинеарность не обнаружена).</li>\n",
    "    <li>Произведено разделение данных на обучающую и тестовую выборки.</li>\n",
    "    <li>Создан пайплайн.</li>\n",
    "    <li>Вычислено значение метрики RMSE на кросс-валидации на обучающей выборке. Метрика RMSE равна 9,75.</li>\n",
    "    <li>Обученная модель проверена на тестовой выборке. Метрика RMSE равна 45,22.</li>\n",
    "    <li>Произведена оценка важности признаков. Наиболее важны признаки: feature_3 и feature_1.</li>\n",
    "    <li>Выведен график модели с добавлением скользящего среднего таргета (6 периодов).</li>\n",
    "    <li>Вычислен коэффициент корреляции Пирсона между предсказанными значениями на тестовом периоде и скользящим средним. <b>Значение r2 равно 0.93</b> (очень сильная зависимость).</li>\n",
    "</ul>"
   ]
  },
  {
   "cell_type": "markdown",
   "id": "5d794469-e047-44ec-bb19-9f03c7da6ed7",
   "metadata": {},
   "source": [
    "## Общий вывод по модели"
   ]
  },
  {
   "cell_type": "markdown",
   "id": "143fabb2-80d0-443b-adbb-dbf85cbccdc2",
   "metadata": {},
   "source": [
    "<p>Анализ результатов модели говорит о ее практической применимости для предсказания среднесрочных при прогнозировании средних оптовых цен на электроэнергию в Европе.</p>"
   ]
  },
  {
   "cell_type": "code",
   "execution_count": null,
   "id": "33d343ad-f44f-48f5-ac4e-20c34d6e95e9",
   "metadata": {},
   "outputs": [],
   "source": []
  }
 ],
 "metadata": {
  "kernelspec": {
   "display_name": "Python 3 (ipykernel)",
   "language": "python",
   "name": "python3"
  },
  "language_info": {
   "codemirror_mode": {
    "name": "ipython",
    "version": 3
   },
   "file_extension": ".py",
   "mimetype": "text/x-python",
   "name": "python",
   "nbconvert_exporter": "python",
   "pygments_lexer": "ipython3",
   "version": "3.10.3"
  }
 },
 "nbformat": 4,
 "nbformat_minor": 5
}
